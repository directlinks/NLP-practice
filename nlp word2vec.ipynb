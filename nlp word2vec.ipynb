{
 "cells": [
  {
   "cell_type": "code",
   "execution_count": 4,
   "metadata": {},
   "outputs": [
    {
     "name": "stdout",
     "output_type": "stream",
     "text": [
      "[['he' 'is']\n",
      " ['he' 'a']\n",
      " ['is' 'he']\n",
      " ['is' 'a']\n",
      " ['is' 'king']\n",
      " ['a' 'he']\n",
      " ['a' 'is']\n",
      " ['a' 'king']\n",
      " ['king' 'is']\n",
      " ['king' 'a']\n",
      " ['he' 'is']\n",
      " ['he' 'a']\n",
      " ['is' 'she']\n",
      " ['is' 'a']\n",
      " ['is' 'queen']\n",
      " ['a' 'she']\n",
      " ['a' 'is']\n",
      " ['a' 'queen']\n",
      " ['king' 'is']\n",
      " ['king' 'a']\n",
      " ['he' 'is']\n",
      " ['he' 'a']\n",
      " ['is' 'he']\n",
      " ['is' 'a']\n",
      " ['is' 'man']\n",
      " ['a' 'he']\n",
      " ['a' 'is']\n",
      " ['a' 'man']\n",
      " ['king' 'is']\n",
      " ['king' 'a']\n",
      " ['he' 'is']\n",
      " ['he' 'a']\n",
      " ['is' 'she']\n",
      " ['is' 'a']\n",
      " ['is' 'woman']\n",
      " ['a' 'she']\n",
      " ['a' 'is']\n",
      " ['a' 'woman']\n",
      " ['king' 'is']\n",
      " ['king' 'a']\n",
      " ['he' 'is']\n",
      " ['he' 'poland']\n",
      " ['is' 'warsaw']\n",
      " ['is' 'poland']\n",
      " ['is' 'capital']\n",
      " ['a' 'warsaw']\n",
      " ['a' 'is']\n",
      " ['a' 'capital']\n",
      " ['king' 'is']\n",
      " ['king' 'poland']\n",
      " ['he' 'is']\n",
      " ['he' 'germany']\n",
      " ['is' 'berlin']\n",
      " ['is' 'germany']\n",
      " ['is' 'capital']\n",
      " ['a' 'berlin']\n",
      " ['a' 'is']\n",
      " ['a' 'capital']\n",
      " ['king' 'is']\n",
      " ['king' 'germany']\n",
      " ['he' 'is']\n",
      " ['he' 'france']\n",
      " ['is' 'paris']\n",
      " ['is' 'france']\n",
      " ['is' 'capital']\n",
      " ['a' 'paris']\n",
      " ['a' 'is']\n",
      " ['a' 'capital']\n",
      " ['king' 'is']\n",
      " ['king' 'france']]\n"
     ]
    }
   ],
   "source": [
    "import numpy as np\n",
    "corpus = [\n",
    "    'he is a king',\n",
    "    'she is a queen',\n",
    "    'he is a man',\n",
    "    'she is a woman',\n",
    "    'warsaw is poland capital',\n",
    "    'berlin is germany capital',\n",
    "    'paris is france capital',\n",
    "]\n",
    "\n",
    "def tokenize_corpus(corpus):\n",
    "    tokens = [x.split() for x in corpus]\n",
    "    return tokens\n",
    "\n",
    "tokenized_corpus = tokenize_corpus(corpus)\n",
    "\n",
    "vocabulary = []\n",
    "for sentence in tokenized_corpus:\n",
    "    for token in sentence:\n",
    "        if token not in vocabulary:\n",
    "            vocabulary.append(token)\n",
    "\n",
    "word2idx = {w: idx for (idx, w) in enumerate(vocabulary)}\n",
    "\n",
    "idx2word = {idx: w for (idx, w) in enumerate(vocabulary)}\n",
    "\n",
    "vocabulary_size = len(vocabulary)\n",
    "\n",
    "window_size = 2\n",
    "idx_pairs = []\n",
    "word_pairs=[]\n",
    "# for each sentence\n",
    "for sentence in tokenized_corpus:\n",
    "    indices = [word2idx[word] for word in sentence]\n",
    "    #print indices\n",
    "    for center_word_pos in range(len(indices)):\n",
    "        # for each window position\n",
    "        for w in range(-window_size, window_size + 1):\n",
    "            context_word_pos = center_word_pos + w\n",
    "            #print context_word_pos \n",
    "            if context_word_pos < 0 or context_word_pos >= len(indices) or center_word_pos == context_word_pos:\n",
    "                continue\n",
    "            context_word_idx = indices[context_word_pos]\n",
    "            idx_pairs.append((indices[center_word_pos], context_word_idx))\n",
    "            word_pairs.append((idx2word[center_word_pos],idx2word[context_word_idx]))\n",
    "            #print idx_pairs\n",
    "            \n",
    "idx_pairs=np.array(idx_pairs)\n",
    "word_pairs=np.array(word_pairs)\n",
    "#print idx_pairs\n",
    "print word_pairs\n"
   ]
  },
  {
   "cell_type": "code",
   "execution_count": 2,
   "metadata": {},
   "outputs": [
    {
     "name": "stdout",
     "output_type": "stream",
     "text": [
      "[[1 2]\n",
      " [2 1]]\n"
     ]
    }
   ],
   "source": [
    "import numpy as np\n",
    "\n",
    "a=[(1,2),(2,1)]\n",
    "\n",
    "print np.array(a)\n",
    "\n"
   ]
  },
  {
   "cell_type": "code",
   "execution_count": 3,
   "metadata": {},
   "outputs": [
    {
     "name": "stdout",
     "output_type": "stream",
     "text": [
      "{'a': 0}\n",
      "{'b': 1}\n",
      "{'c': 2}\n",
      "{'d': 3}\n"
     ]
    }
   ],
   "source": [
    "vo=[\"a\",\"b\",\"c\",\"d\"]\n",
    "for (i,j) in enumerate(vo):\n",
    "    print {j:i}"
   ]
  },
  {
   "cell_type": "code",
   "execution_count": 4,
   "metadata": {},
   "outputs": [
    {
     "ename": "ImportError",
     "evalue": "No module named pytorch",
     "output_type": "error",
     "traceback": [
      "\u001b[1;31m\u001b[0m",
      "\u001b[1;31mImportError\u001b[0mTraceback (most recent call last)",
      "\u001b[1;32m<ipython-input-4-2d9dc936c0aa>\u001b[0m in \u001b[0;36m<module>\u001b[1;34m()\u001b[0m\n\u001b[1;32m----> 1\u001b[1;33m \u001b[1;32mimport\u001b[0m \u001b[0mpytorch\u001b[0m\u001b[1;33m\u001b[0m\u001b[0m\n\u001b[0m\u001b[0;32m      2\u001b[0m \u001b[1;32mprint\u001b[0m \u001b[0mtorch\u001b[0m\u001b[1;33m.\u001b[0m\u001b[0mzeros\u001b[0m\u001b[1;33m(\u001b[0m\u001b[1;33m)\u001b[0m\u001b[1;33m\u001b[0m\u001b[0m\n",
      "\u001b[1;31mImportError\u001b[0m: No module named pytorch"
     ]
    }
   ],
   "source": [
    "import pytorch\n",
    "print torch.zeros()"
   ]
  },
  {
   "cell_type": "code",
   "execution_count": null,
   "metadata": {},
   "outputs": [],
   "source": []
  }
 ],
 "metadata": {
  "kernelspec": {
   "display_name": "Python 2",
   "language": "python",
   "name": "python2"
  },
  "language_info": {
   "codemirror_mode": {
    "name": "ipython",
    "version": 2
   },
   "file_extension": ".py",
   "mimetype": "text/x-python",
   "name": "python",
   "nbconvert_exporter": "python",
   "pygments_lexer": "ipython2",
   "version": "2.7.15"
  }
 },
 "nbformat": 4,
 "nbformat_minor": 2
}
